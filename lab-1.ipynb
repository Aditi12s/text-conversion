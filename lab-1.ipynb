{
 "cells": [
  {
   "cell_type": "markdown",
   "id": "c497e6e9-2c5b-4142-8e5c-bc0d2a7ab987",
   "metadata": {},
   "source": [
    "## TEMPRATURE CONVERSION"
   ]
  },
  {
   "cell_type": "code",
   "execution_count": 9,
   "id": "143fbf48-51a9-4873-9ff1-11ef3372e511",
   "metadata": {},
   "outputs": [
    {
     "data": {
      "text/plain": [
       "343.40000000000003"
      ]
     },
     "execution_count": 9,
     "metadata": {},
     "output_type": "execute_result"
    }
   ],
   "source": [
    "def temp(t,unit):\n",
    "    '''temprature conversion from c to f, f to c'''\n",
    "    if unit=='F' or unit=='f':\n",
    "        return (t-32)*5/9\n",
    "    elif unit=='C' or unit=='c':\n",
    "        return t*(9/5)+32\n",
    "    else:\n",
    "        return 1\n",
    "temp(173 ,'c')"
   ]
  },
  {
   "cell_type": "markdown",
   "id": "5c4371e6-2366-4ada-a8de-1680ba6c1f05",
   "metadata": {},
   "source": [
    "## Password checker"
   ]
  },
  {
   "cell_type": "code",
   "execution_count": 4,
   "id": "ce41ff80-531a-4ce9-81b8-adb6c0d3d5e5",
   "metadata": {},
   "outputs": [
    {
     "name": "stdout",
     "output_type": "stream",
     "text": [
      "good\n"
     ]
    }
   ],
   "source": [
    "def passw(password):\n",
    "    '''checks wheather password strong or not'''\n",
    "    if len(password)<8:\n",
    "        print('passsword not strong')\n",
    "    elif not any(char.isdigit() for char in password): #isdigit() function present in python\n",
    "        print('passsword not strong')\n",
    "    elif not any(char.islower() for char in password): #islower() func present in py for lowercase\n",
    "        print('passsword not strong')\n",
    "    elif not any(char.isupper() for char in password):\n",
    "        print('passsword not strong')\n",
    "    else:\n",
    "        print('good')\n",
    "\n",
    "passw('aaaAabb8bba')"
   ]
  },
  {
   "cell_type": "markdown",
   "id": "c6f29ea0-ebd2-4f26-aa60-0a772c80f76b",
   "metadata": {},
   "source": [
    "## Cost of items in shopping cart"
   ]
  },
  {
   "cell_type": "code",
   "execution_count": null,
   "id": "5337812d-d331-432c-a805-07e8d4bade72",
   "metadata": {},
   "outputs": [],
   "source": []
  },
  {
   "cell_type": "markdown",
   "id": "4dd938db-a577-4e93-bb08-7ca6a07d2bc6",
   "metadata": {},
   "source": [
    "## Check if string palindrome"
   ]
  },
  {
   "cell_type": "code",
   "execution_count": 13,
   "id": "343c054d-0282-4fa0-b77a-1190a868316c",
   "metadata": {},
   "outputs": [
    {
     "data": {
      "text/plain": [
       "True"
      ]
     },
     "execution_count": 13,
     "metadata": {},
     "output_type": "execute_result"
    }
   ],
   "source": [
    "def palindrome(s):\n",
    "    s=s.lower().replace(\" \",\"\")\n",
    "    return s==s[::-1]\n",
    "palindrome('bh bhb')"
   ]
  },
  {
   "cell_type": "markdown",
   "id": "fa8c7b78-ff57-4344-b83e-5b2b284f1298",
   "metadata": {},
   "source": [
    "## Factorial(using recursion)"
   ]
  },
  {
   "cell_type": "code",
   "execution_count": 14,
   "id": "e6e1f5be-2dd9-42ed-8b61-f0117816fd9f",
   "metadata": {},
   "outputs": [],
   "source": [
    "def factorial(n):\n",
    "    if n==0:\n",
    "        return 1\n",
    "    else:\n",
    "        return n*factorial(n-1)"
   ]
  },
  {
   "cell_type": "markdown",
   "id": "fd692d41-e1ec-44d9-85a1-5afcf31d4c65",
   "metadata": {},
   "source": [
    "## Func to read file & count frequency of each word"
   ]
  },
  {
   "cell_type": "code",
   "execution_count": 15,
   "id": "2bcc71ff-53d5-4ea9-ad49-4717977ddabd",
   "metadata": {},
   "outputs": [
    {
     "ename": "SyntaxError",
     "evalue": "invalid syntax (1885169875.py, line 1)",
     "output_type": "error",
     "traceback": [
      "\u001b[1;36m  Cell \u001b[1;32mIn[15], line 1\u001b[1;36m\u001b[0m\n\u001b[1;33m    def\u001b[0m\n\u001b[1;37m        ^\u001b[0m\n\u001b[1;31mSyntaxError\u001b[0m\u001b[1;31m:\u001b[0m invalid syntax\n"
     ]
    }
   ],
   "source": [
    "def "
   ]
  },
  {
   "cell_type": "markdown",
   "id": "af2d3025-1476-4aa5-8edd-9aab48433e5d",
   "metadata": {},
   "source": [
    "## Email validation"
   ]
  },
  {
   "cell_type": "code",
   "execution_count": null,
   "id": "01180ebe-e35f-4e9b-955f-305b620f8a4d",
   "metadata": {},
   "outputs": [],
   "source": [
    "def email(mail):\n",
    "    "
   ]
  }
 ],
 "metadata": {
  "kernelspec": {
   "display_name": "Python 3 (ipykernel)",
   "language": "python",
   "name": "python3"
  },
  "language_info": {
   "codemirror_mode": {
    "name": "ipython",
    "version": 3
   },
   "file_extension": ".py",
   "mimetype": "text/x-python",
   "name": "python",
   "nbconvert_exporter": "python",
   "pygments_lexer": "ipython3",
   "version": "3.12.7"
  }
 },
 "nbformat": 4,
 "nbformat_minor": 5
}
